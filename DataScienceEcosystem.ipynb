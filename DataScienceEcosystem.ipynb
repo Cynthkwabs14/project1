{
 "cells": [
  {
   "cell_type": "markdown",
   "id": "92148b52",
   "metadata": {},
   "source": [
    "# Data Science Tools and Ecosystem\n"
   ]
  },
  {
   "cell_type": "markdown",
   "id": "70ebcdc6",
   "metadata": {},
   "source": [
    "In this notebook, Data Science Tools and Ecosystem are summarized."
   ]
  },
  {
   "cell_type": "markdown",
   "id": "410a39b5",
   "metadata": {},
   "source": [
    "**Objective: **\n",
    "* R\n",
    "* Python\n",
    "* C\n",
    "* C++\n",
    "* Julia"
   ]
  },
  {
   "cell_type": "markdown",
   "id": "93fbdd2f",
   "metadata": {},
   "source": [
    "**some of the popular languages that Data Scientist use are:**\n",
    "1. python\n",
    "2. R\n",
    "3. C++"
   ]
  },
  {
   "cell_type": "markdown",
   "id": "b8372733",
   "metadata": {},
   "source": [
    "** Some of the commonly used libraries used by Data Scientists include:**\n",
    "1. NumPy\n",
    "2. Pandas\n",
    "3. Tensorflow"
   ]
  },
  {
   "cell_type": "markdown",
   "id": "4ba7c3f0",
   "metadata": {},
   "source": [
    "|Data Science Tools|\n",
    "|------------------|\n",
    "|Rstudio|\n",
    "|Tensorflow|\n",
    "|Apache Spark|\n"
   ]
  },
  {
   "cell_type": "markdown",
   "id": "5148ff7d",
   "metadata": {},
   "source": [
    "### Below are a few examples of evaluating arithmetic expressions in Python"
   ]
  },
  {
   "cell_type": "code",
   "execution_count": 1,
   "id": "b06c3a65",
   "metadata": {},
   "outputs": [
    {
     "data": {
      "text/plain": [
       "17"
      ]
     },
     "execution_count": 1,
     "metadata": {},
     "output_type": "execute_result"
    }
   ],
   "source": [
    "# This is a simple arithmetic expression to multiply then add integers\n",
    "(3*4)+5"
   ]
  },
  {
   "cell_type": "code",
   "execution_count": 2,
   "id": "76e4a9f9",
   "metadata": {},
   "outputs": [
    {
     "data": {
      "text/plain": [
       "3.3333333333333335"
      ]
     },
     "execution_count": 2,
     "metadata": {},
     "output_type": "execute_result"
    }
   ],
   "source": [
    "# This will convert 200 minutes to hours by dividing by 60\n",
    "200/60"
   ]
  },
  {
   "cell_type": "markdown",
   "id": "dbba8520",
   "metadata": {},
   "source": [
    "## Author\n",
    "Cynthia Appiah-Osafo"
   ]
  },
  {
   "cell_type": "code",
   "execution_count": null,
   "id": "3b0817a3",
   "metadata": {},
   "outputs": [],
   "source": []
  }
 ],
 "metadata": {
  "kernelspec": {
   "display_name": "Python 3 (ipykernel)",
   "language": "python",
   "name": "python3"
  },
  "language_info": {
   "codemirror_mode": {
    "name": "ipython",
    "version": 3
   },
   "file_extension": ".py",
   "mimetype": "text/x-python",
   "name": "python",
   "nbconvert_exporter": "python",
   "pygments_lexer": "ipython3",
   "version": "3.10.9"
  }
 },
 "nbformat": 4,
 "nbformat_minor": 5
}
